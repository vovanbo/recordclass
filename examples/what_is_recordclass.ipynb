{
 "cells": [
  {
   "cell_type": "markdown",
   "metadata": {},
   "source": [
    "# What is recordclass"
   ]
  },
  {
   "cell_type": "markdown",
   "metadata": {},
   "source": [
    "`Recordclass` is a factory function for creating of `record`-like classes &mdash; \"mutable\" analog of [collections.namedtuple](https://docs.python.org/3/library/collections.html)."
   ]
  },
  {
   "cell_type": "code",
   "execution_count": 40,
   "metadata": {
    "collapsed": true
   },
   "outputs": [],
   "source": [
    "from __future__ import print_function\n",
    "from recordclass import recordclass"
   ]
  },
  {
   "cell_type": "markdown",
   "metadata": {},
   "source": [
    "**Creation**"
   ]
  },
  {
   "cell_type": "code",
   "execution_count": 41,
   "metadata": {
    "collapsed": true
   },
   "outputs": [],
   "source": [
    "R = recordclass(\"R\", \"a b c d e f g h\")\n",
    "r = R(*range(1,9))"
   ]
  },
  {
   "cell_type": "markdown",
   "metadata": {},
   "source": [
    "**Sizeof(r) = sizeof(()) + 8*len(r)**"
   ]
  },
  {
   "cell_type": "code",
   "execution_count": 42,
   "metadata": {
    "collapsed": false,
    "scrolled": true
   },
   "outputs": [
    {
     "name": "stdout",
     "output_type": "stream",
     "text": [
      "recordclass: sizeof: 120\n",
      "namedtuple:  sizeof: 120\n",
      "just tuple:  sizeof: 120\n"
     ]
    }
   ],
   "source": [
    "import sys\n",
    "from collections import namedtuple\n",
    "\n",
    "R2 = recordclass(\"R\", \"a b c d e f g h\")\n",
    "r2 = R2(*range(1,9))\n",
    "r3 = tuple(range(1,9))\n",
    "print(\"recordclass: sizeof:\", sys.getsizeof(r))\n",
    "print(\"namedtuple:  sizeof:\", sys.getsizeof(r2))\n",
    "print(\"just tuple:  sizeof:\", sys.getsizeof(r3))"
   ]
  },
  {
   "cell_type": "markdown",
   "metadata": {},
   "source": [
    "**Repr/Str**"
   ]
  },
  {
   "cell_type": "code",
   "execution_count": 43,
   "metadata": {
    "collapsed": false
   },
   "outputs": [
    {
     "name": "stdout",
     "output_type": "stream",
     "text": [
      "R(a=1, b=2, c=3, d=4, e=5, f=6, g=7, h=8)\n",
      "R(a=1, b=2, c=3, d=4, e=5, f=6, g=7, h=8)\n"
     ]
    }
   ],
   "source": [
    "print(repr(r))\n",
    "print(str(r))"
   ]
  },
  {
   "cell_type": "markdown",
   "metadata": {},
   "source": [
    "**Access by name of field**"
   ]
  },
  {
   "cell_type": "code",
   "execution_count": 44,
   "metadata": {
    "collapsed": false
   },
   "outputs": [
    {
     "name": "stdout",
     "output_type": "stream",
     "text": [
      "1 2 3 4 5 6 7 8\n"
     ]
    }
   ],
   "source": [
    "print(r.a, r.b, r.c, r.d, r.e, r.f, r.g, r.h)"
   ]
  },
  {
   "cell_type": "markdown",
   "metadata": {},
   "source": [
    "**Access by index**"
   ]
  },
  {
   "cell_type": "code",
   "execution_count": 45,
   "metadata": {
    "collapsed": false
   },
   "outputs": [
    {
     "name": "stdout",
     "output_type": "stream",
     "text": [
      "1 2 3 4 5 6 7 8 "
     ]
    }
   ],
   "source": [
    "for i in range(8): print(r[i], end=\" \")"
   ]
  },
  {
   "cell_type": "markdown",
   "metadata": {},
   "source": [
    "**Mutation of field values**"
   ]
  },
  {
   "cell_type": "code",
   "execution_count": 46,
   "metadata": {
    "collapsed": false
   },
   "outputs": [
    {
     "name": "stdout",
     "output_type": "stream",
     "text": [
      "R(a=1, b=4, c=9, d=16, e=25, f=36, g=49, h=64)\n"
     ]
    }
   ],
   "source": [
    "r.a, r.b, r.c, r.d, r.e, r.f, r.g, r.h = r.a, 2*r.b, 3*r.c, 4*r.d, 5*r.e, 6*r.f, 7*r.g, 8*r.h\n",
    "print(r)"
   ]
  },
  {
   "cell_type": "markdown",
   "metadata": {},
   "source": [
    "**Iterative unpacking**"
   ]
  },
  {
   "cell_type": "code",
   "execution_count": 47,
   "metadata": {
    "collapsed": false
   },
   "outputs": [
    {
     "name": "stdout",
     "output_type": "stream",
     "text": [
      "1 4 9 16 25 36 49 64\n"
     ]
    }
   ],
   "source": [
    "a, b, c, d, e, f, g, h = r\n",
    "print(a, b, c, d, e, f, g, h)"
   ]
  },
  {
   "cell_type": "markdown",
   "metadata": {},
   "source": [
    "**Iteration**"
   ]
  },
  {
   "cell_type": "code",
   "execution_count": 48,
   "metadata": {
    "collapsed": false
   },
   "outputs": [
    {
     "name": "stdout",
     "output_type": "stream",
     "text": [
      "1 4 9 16 25 36 49 64 "
     ]
    }
   ],
   "source": [
    "for v in r: print(v, end=\" \")"
   ]
  },
  {
   "cell_type": "markdown",
   "metadata": {},
   "source": [
    "**As ordered dict**"
   ]
  },
  {
   "cell_type": "code",
   "execution_count": 49,
   "metadata": {
    "collapsed": false
   },
   "outputs": [
    {
     "data": {
      "text/plain": [
       "OrderedDict([('a', 1), ('b', 4), ('c', 9), ('d', 16), ('e', 25), ('f', 36), ('g', 49), ('h', 64)])"
      ]
     },
     "execution_count": 49,
     "metadata": {},
     "output_type": "execute_result"
    }
   ],
   "source": [
    "r._asdict()"
   ]
  },
  {
   "cell_type": "markdown",
   "metadata": {},
   "source": [
    "**Replacing inplace**"
   ]
  },
  {
   "cell_type": "code",
   "execution_count": 50,
   "metadata": {
    "collapsed": false
   },
   "outputs": [
    {
     "name": "stdout",
     "output_type": "stream",
     "text": [
      "R(a=100, b=4, c=9, d=16, e=25, f=36, g=49, h=1000)\n"
     ]
    },
    {
     "data": {
      "text/plain": [
       "True"
      ]
     },
     "execution_count": 50,
     "metadata": {},
     "output_type": "execute_result"
    }
   ],
   "source": [
    "r1 = r._replace(a=100, h=1000)\n",
    "print(r1)\n",
    "r1 is r"
   ]
  },
  {
   "cell_type": "markdown",
   "metadata": {},
   "source": [
    "**Pickle/unplicle**"
   ]
  },
  {
   "cell_type": "code",
   "execution_count": 51,
   "metadata": {
    "collapsed": false
   },
   "outputs": [
    {
     "data": {
      "text/plain": [
       "True"
      ]
     },
     "execution_count": 51,
     "metadata": {},
     "output_type": "execute_result"
    }
   ],
   "source": [
    "import pickle\n",
    "r_pickled = pickle.dumps(r)\n",
    "r_unpickled = pickle.loads(r_pickled)\n",
    "r == r_unpickled"
   ]
  },
  {
   "cell_type": "markdown",
   "metadata": {},
   "source": [
    "**_fields**"
   ]
  },
  {
   "cell_type": "code",
   "execution_count": 52,
   "metadata": {
    "collapsed": false
   },
   "outputs": [
    {
     "data": {
      "text/plain": [
       "('a', 'b', 'c', 'd', 'e', 'f', 'g', 'h')"
      ]
     },
     "execution_count": 52,
     "metadata": {},
     "output_type": "execute_result"
    }
   ],
   "source": [
    "r._fields"
   ]
  },
  {
   "cell_type": "markdown",
   "metadata": {},
   "source": [
    "**\\_\\_slots\\_\\_**"
   ]
  },
  {
   "cell_type": "code",
   "execution_count": 53,
   "metadata": {
    "collapsed": false
   },
   "outputs": [
    {
     "data": {
      "text/plain": [
       "()"
      ]
     },
     "execution_count": 53,
     "metadata": {},
     "output_type": "execute_result"
    }
   ],
   "source": [
    "r.__slots__"
   ]
  },
  {
   "cell_type": "markdown",
   "metadata": {},
   "source": [
    "**Comparison with alternatives**"
   ]
  },
  {
   "cell_type": "code",
   "execution_count": 54,
   "metadata": {
    "collapsed": false
   },
   "outputs": [
    {
     "name": "stdout",
     "output_type": "stream",
     "text": [
      "Named tuple with attribute access:\n",
      "100 loops, best of 3: 1.64 ms per loop\n",
      "Named tuple with index access:\n",
      "1000 loops, best of 3: 741 µs per loop\n",
      "Recordclass with attribute access:\n",
      "1000 loops, best of 3: 829 µs per loop\n",
      "Recordclass with index access:\n",
      "1000 loops, best of 3: 730 µs per loop\n",
      "Class using __slots__ with attribute access:\n",
      "1000 loops, best of 3: 718 µs per loop\n",
      "Class using __slots__ with index access:\n",
      "100 loops, best of 3: 2.06 ms per loop\n",
      "Dictionary with keys a, b, c:\n",
      "1000 loops, best of 3: 629 µs per loop\n",
      "Tuple with three values, using a constant key:\n",
      "1000 loops, best of 3: 681 µs per loop\n",
      "List with three values, using a constant key:\n",
      "1000 loops, best of 3: 577 µs per loop\n",
      "Tuple with three values, using a local key:\n",
      "1000 loops, best of 3: 771 µs per loop\n",
      "List with three values, using a local key:\n",
      "1000 loops, best of 3: 661 µs per loop\n"
     ]
    }
   ],
   "source": [
    "from collections import namedtuple\n",
    "STest = namedtuple(\"TEST\", \"a b c d e f g h\")\n",
    "sa = STest(a=1,b=2,c=3,d=4,e=5,f=6,g=7,h=8)\n",
    "\n",
    "RTest = recordclass(\"RTEST\", \"a b c d e f g h\")\n",
    "ra = RTest(a=1,b=2,c=3,d=4,e=5,f=6,g=7,h=8)\n",
    "\n",
    "class Test(object):\n",
    "    __slots__ = [\"a\",\"b\",\"c\",\"d\",\"e\",\"f\",\"g\",\"h\"]\n",
    "\n",
    "    def __init__(self, a, b, c, d, e, f, g, h):\n",
    "        self.a = a; self.b = b; self.c = c\n",
    "        self.d = d; self.e = e; self.f = f\n",
    "        self.g = g; self.h = h\n",
    "\n",
    "b = Test(1,2,3,4,5,6,7,8)\n",
    "\n",
    "c = {'a':1, 'b':2, 'c':3, 'd':4, 'e':5, 'f':6, 'g':7, 'h':8}\n",
    "\n",
    "d = (1,2,3,4,5,6,7,8)\n",
    "e = [1,2,3,4,5,6,7,8]\n",
    "f = (1,2,3,4,5,6,7,8)\n",
    "g = [1,2,3,4,5,6,7,8]\n",
    "key = 7\n",
    "\n",
    "from timeit import timeit\n",
    "\n",
    "print(\"Named tuple with attribute access:\")\n",
    "%timeit for i in range(10000): z = sa.g\n",
    "\n",
    "print(\"Named tuple with index access:\")\n",
    "%timeit for i in range(10000): z = sa[7]\n",
    "\n",
    "print(\"Recordclass with attribute access:\")\n",
    "%timeit for i in range(10000): z = ra.g\n",
    "\n",
    "print(\"Recordclass with index access:\")\n",
    "%timeit for i in range(10000): z = ra[7]\n",
    "\n",
    "print(\"Class using __slots__ with attribute access:\")\n",
    "%timeit for i in range(10000): z = b.g\n",
    "\n",
    "print(\"Class using __slots__ with index access:\")\n",
    "%timeit for i in range(10000): z = getattr(b, b.__slots__[7])\n",
    "\n",
    "print(\"Dictionary with keys a, b, c:\")\n",
    "%timeit for i in range(10000): z = c['g']\n",
    "\n",
    "print(\"Tuple with three values, using a constant key:\")    \n",
    "%timeit for i in range(10000): z = d[7]\n",
    "\n",
    "print(\"List with three values, using a constant key:\")\n",
    "%timeit for i in range(10000): z = e[7]\n",
    "\n",
    "print(\"Tuple with three values, using a local key:\")\n",
    "%timeit for i in range(10000): z = d[key]\n",
    "\n",
    "print(\"List with three values, using a local key:\")\n",
    "%timeit for i in range(10000): z = e[key]\n"
   ]
  }
 ],
 "metadata": {
  "kernelspec": {
   "display_name": "Python 2",
   "language": "python",
   "name": "python2"
  },
  "language_info": {
   "codemirror_mode": {
    "name": "ipython",
    "version": 2
   },
   "file_extension": ".py",
   "mimetype": "text/x-python",
   "name": "python",
   "nbconvert_exporter": "python",
   "pygments_lexer": "ipython2",
   "version": "2.7.9"
  }
 },
 "nbformat": 4,
 "nbformat_minor": 0
}
