{
 "cells": [
  {
   "cell_type": "markdown",
   "metadata": {},
   "source": [
    "# What is recordclass"
   ]
  },
  {
   "cell_type": "markdown",
   "metadata": {},
   "source": [
    "`Recordclass` is a factory function for creating of `record`-like classes &mdash; \"mutable\" analog of [collections.namedtuple](https://docs.python.org/3/library/collections.html)."
   ]
  },
  {
   "cell_type": "code",
   "execution_count": 1,
   "metadata": {
    "collapsed": true
   },
   "outputs": [],
   "source": [
    "from __future__ import print_function\n",
    "from recordclass import recordclass"
   ]
  },
  {
   "cell_type": "markdown",
   "metadata": {},
   "source": [
    "**Creation**"
   ]
  },
  {
   "cell_type": "code",
   "execution_count": 2,
   "metadata": {
    "collapsed": true
   },
   "outputs": [],
   "source": [
    "R = recordclass(\"R\", \"a b c d e f g h\")\n",
    "r = R(*range(1,9))"
   ]
  },
  {
   "cell_type": "markdown",
   "metadata": {},
   "source": [
    "**Sizeof(r) = sizeof(()) + 8*len(r)**"
   ]
  },
  {
   "cell_type": "code",
   "execution_count": 3,
   "metadata": {
    "collapsed": false
   },
   "outputs": [
    {
     "name": "stdout",
     "output_type": "stream",
     "text": [
      "sizeof: 112\n"
     ]
    }
   ],
   "source": [
    "import sys\n",
    "print(\"sizeof:\", sys.getsizeof(r))"
   ]
  },
  {
   "cell_type": "markdown",
   "metadata": {},
   "source": [
    "**Repr**"
   ]
  },
  {
   "cell_type": "code",
   "execution_count": 4,
   "metadata": {
    "collapsed": false
   },
   "outputs": [
    {
     "data": {
      "text/plain": [
       "R(a=1, b=2, c=3, d=4, e=5, f=6, g=7, h=8)"
      ]
     },
     "execution_count": 4,
     "metadata": {},
     "output_type": "execute_result"
    }
   ],
   "source": [
    "r"
   ]
  },
  {
   "cell_type": "markdown",
   "metadata": {},
   "source": [
    "**Str**"
   ]
  },
  {
   "cell_type": "code",
   "execution_count": 5,
   "metadata": {
    "collapsed": false
   },
   "outputs": [
    {
     "name": "stdout",
     "output_type": "stream",
     "text": [
      "R(a=1, b=2, c=3, d=4, e=5, f=6, g=7, h=8)\n"
     ]
    }
   ],
   "source": [
    "print(r)"
   ]
  },
  {
   "cell_type": "markdown",
   "metadata": {},
   "source": [
    "**Access by name of field**"
   ]
  },
  {
   "cell_type": "code",
   "execution_count": 6,
   "metadata": {
    "collapsed": false
   },
   "outputs": [
    {
     "name": "stdout",
     "output_type": "stream",
     "text": [
      "1 2 3 4 5 6 7 8\n"
     ]
    }
   ],
   "source": [
    "print(r.a, r.b, r.c, r.d, r.e, r.f, r.g, r.h)"
   ]
  },
  {
   "cell_type": "markdown",
   "metadata": {},
   "source": [
    "**Access by index**"
   ]
  },
  {
   "cell_type": "code",
   "execution_count": 7,
   "metadata": {
    "collapsed": false
   },
   "outputs": [
    {
     "name": "stdout",
     "output_type": "stream",
     "text": [
      "1 2 3 4 5 6 7 8 "
     ]
    }
   ],
   "source": [
    "for i in range(8): print(r[i], end=\" \")"
   ]
  },
  {
   "cell_type": "markdown",
   "metadata": {},
   "source": [
    "**Mutation of field values**"
   ]
  },
  {
   "cell_type": "code",
   "execution_count": 8,
   "metadata": {
    "collapsed": false
   },
   "outputs": [
    {
     "name": "stdout",
     "output_type": "stream",
     "text": [
      "R(a=1, b=4, c=9, d=16, e=25, f=36, g=49, h=64)\n"
     ]
    }
   ],
   "source": [
    "r.a, r.b, r.c, r.d, r.e, r.f, r.g, r.h = r.a, 2*r.b, 3*r.c, 4*r.d, 5*r.e, 6*r.f, 7*r.g, 8*r.h\n",
    "print(r)"
   ]
  },
  {
   "cell_type": "markdown",
   "metadata": {},
   "source": [
    "**Iterative unpacking**"
   ]
  },
  {
   "cell_type": "code",
   "execution_count": 9,
   "metadata": {
    "collapsed": false
   },
   "outputs": [
    {
     "name": "stdout",
     "output_type": "stream",
     "text": [
      "1 4 9 16 25 36 49 64\n"
     ]
    }
   ],
   "source": [
    "a, b, c, d, e, f, g, h = r\n",
    "print(a, b, c, d, e, f, g, h)"
   ]
  },
  {
   "cell_type": "markdown",
   "metadata": {},
   "source": [
    "**Iteration**"
   ]
  },
  {
   "cell_type": "code",
   "execution_count": 10,
   "metadata": {
    "collapsed": false
   },
   "outputs": [
    {
     "name": "stdout",
     "output_type": "stream",
     "text": [
      "1 4 9 16 25 36 49 64 "
     ]
    }
   ],
   "source": [
    "for v in r: print(v, end=\" \")"
   ]
  },
  {
   "cell_type": "markdown",
   "metadata": {},
   "source": [
    "**As ordered dict**"
   ]
  },
  {
   "cell_type": "code",
   "execution_count": 11,
   "metadata": {
    "collapsed": false
   },
   "outputs": [
    {
     "data": {
      "text/plain": [
       "OrderedDict([('a', 1), ('b', 4), ('c', 9), ('d', 16), ('e', 25), ('f', 36), ('g', 49), ('h', 64)])"
      ]
     },
     "execution_count": 11,
     "metadata": {},
     "output_type": "execute_result"
    }
   ],
   "source": [
    "r._asdict()"
   ]
  },
  {
   "cell_type": "markdown",
   "metadata": {},
   "source": [
    "**Replacing inplace**"
   ]
  },
  {
   "cell_type": "code",
   "execution_count": 12,
   "metadata": {
    "collapsed": false
   },
   "outputs": [
    {
     "name": "stdout",
     "output_type": "stream",
     "text": [
      "R(a=100, b=4, c=9, d=16, e=25, f=36, g=49, h=1000)\n"
     ]
    },
    {
     "data": {
      "text/plain": [
       "True"
      ]
     },
     "execution_count": 12,
     "metadata": {},
     "output_type": "execute_result"
    }
   ],
   "source": [
    "r1 = r._replace(a=100, h=1000)\n",
    "print(r1)\n",
    "r1 is r"
   ]
  },
  {
   "cell_type": "markdown",
   "metadata": {},
   "source": [
    "**Pickle/unplicle**"
   ]
  },
  {
   "cell_type": "code",
   "execution_count": 13,
   "metadata": {
    "collapsed": false
   },
   "outputs": [
    {
     "data": {
      "text/plain": [
       "True"
      ]
     },
     "execution_count": 13,
     "metadata": {},
     "output_type": "execute_result"
    }
   ],
   "source": [
    "import pickle\n",
    "r_pickled = pickle.dumps(r)\n",
    "r_unpickled = pickle.loads(r_pickled)\n",
    "r == r_unpickled"
   ]
  },
  {
   "cell_type": "markdown",
   "metadata": {},
   "source": [
    "**_fields**"
   ]
  },
  {
   "cell_type": "code",
   "execution_count": 14,
   "metadata": {
    "collapsed": false
   },
   "outputs": [
    {
     "data": {
      "text/plain": [
       "('a', 'b', 'c', 'd', 'e', 'f', 'g', 'h')"
      ]
     },
     "execution_count": 14,
     "metadata": {},
     "output_type": "execute_result"
    }
   ],
   "source": [
    "r._fields"
   ]
  },
  {
   "cell_type": "markdown",
   "metadata": {},
   "source": [
    "**\\_\\_slots\\_\\_**"
   ]
  },
  {
   "cell_type": "code",
   "execution_count": 15,
   "metadata": {
    "collapsed": false
   },
   "outputs": [
    {
     "data": {
      "text/plain": [
       "()"
      ]
     },
     "execution_count": 15,
     "metadata": {},
     "output_type": "execute_result"
    }
   ],
   "source": [
    "r.__slots__"
   ]
  },
  {
   "cell_type": "markdown",
   "metadata": {},
   "source": [
    "**Comparison with alternatives**"
   ]
  },
  {
   "cell_type": "code",
   "execution_count": 17,
   "metadata": {
    "collapsed": false
   },
   "outputs": [
    {
     "name": "stdout",
     "output_type": "stream",
     "text": [
      "Named tuple with attribute access:\n",
      "1000 loops, best of 3: 1.47 ms per loop\n",
      "Named tuple with index access:\n",
      "1000 loops, best of 3: 789 µs per loop\n",
      "Recordclass with attribute access:\n",
      "1000 loops, best of 3: 784 µs per loop\n",
      "Recordclass with index access:\n",
      "1000 loops, best of 3: 791 µs per loop\n",
      "Class using __slots__ with attribute access:\n",
      "1000 loops, best of 3: 815 µs per loop\n",
      "Class using __slots__ with index access:\n",
      "100 loops, best of 3: 2.3 ms per loop\n",
      "Dictionary with keys a, b, c:\n",
      "1000 loops, best of 3: 784 µs per loop\n",
      "Tuple with three values, using a constant key:\n",
      "1000 loops, best of 3: 782 µs per loop\n",
      "List with three values, using a constant key:\n",
      "1000 loops, best of 3: 794 µs per loop\n",
      "Tuple with three values, using a local key:\n",
      "1000 loops, best of 3: 1.04 ms per loop\n",
      "List with three values, using a local key:\n",
      "1000 loops, best of 3: 983 µs per loop\n"
     ]
    }
   ],
   "source": [
    "from collections import namedtuple\n",
    "STest = namedtuple(\"TEST\", \"a b c d e f g h\")\n",
    "sa = STest(a=1,b=2,c=3,d=4,e=5,f=6,g=7,h=8)\n",
    "\n",
    "RTest = recordclass(\"RTEST\", \"a b c d e f g h\")\n",
    "ra = RTest(a=1,b=2,c=3,d=4,e=5,f=6,g=7,h=8)\n",
    "\n",
    "class Test(object):\n",
    "    __slots__ = [\"a\",\"b\",\"c\",\"d\",\"e\",\"f\",\"g\",\"h\"]\n",
    "\n",
    "    def __init__(self, a, b, c, d, e, f, g, h):\n",
    "        self.a = a; self.b = b; self.c = c\n",
    "        self.d = d; self.e = e; self.f = f\n",
    "        self.g = g; self.h = h\n",
    "\n",
    "b = Test(1,2,3,4,5,6,7,8)\n",
    "\n",
    "c = {'a':1, 'b':2, 'c':3, 'd':4, 'e':5, 'f':6, 'g':7, 'h':8}\n",
    "\n",
    "d = (1,2,3,4,5,6,7,8)\n",
    "e = [1,2,3,4,5,6,7,8]\n",
    "f = (1,2,3,4,5,6,7,8)\n",
    "g = [1,2,3,4,5,6,7,8]\n",
    "key = 7\n",
    "\n",
    "from timeit import timeit\n",
    "\n",
    "print(\"Named tuple with attribute access:\")\n",
    "%timeit for i in range(10000): z = sa.g\n",
    "\n",
    "print(\"Named tuple with index access:\")\n",
    "%timeit for i in range(10000): z = sa[7]\n",
    "\n",
    "print(\"Recordclass with attribute access:\")\n",
    "%timeit for i in range(10000): z = ra.g\n",
    "\n",
    "print(\"Recordclass with index access:\")\n",
    "%timeit for i in range(10000): z = ra[7]\n",
    "\n",
    "print(\"Class using __slots__ with attribute access:\")\n",
    "%timeit for i in range(10000): z = b.g\n",
    "\n",
    "print(\"Class using __slots__ with index access:\")\n",
    "%timeit for i in range(10000): z = getattr(b, b.__slots__[7])\n",
    "\n",
    "print(\"Dictionary with keys a, b, c:\")\n",
    "%timeit for i in range(10000): z = c['g']\n",
    "\n",
    "print(\"Tuple with three values, using a constant key:\")    \n",
    "%timeit for i in range(10000): z = d[7]\n",
    "\n",
    "print(\"List with three values, using a constant key:\")\n",
    "%timeit for i in range(10000): z = e[7]\n",
    "\n",
    "print(\"Tuple with three values, using a local key:\")\n",
    "%timeit for i in range(10000): z = d[key]\n",
    "\n",
    "print(\"List with three values, using a local key:\")\n",
    "%timeit for i in range(10000): z = e[key]\n"
   ]
  },
  {
   "cell_type": "code",
   "execution_count": null,
   "metadata": {
    "collapsed": true
   },
   "outputs": [],
   "source": []
  }
 ],
 "metadata": {
  "kernelspec": {
   "display_name": "Python 3",
   "language": "python",
   "name": "python3"
  },
  "language_info": {
   "codemirror_mode": {
    "name": "ipython",
    "version": 3
   },
   "file_extension": ".py",
   "mimetype": "text/x-python",
   "name": "python",
   "nbconvert_exporter": "python",
   "pygments_lexer": "ipython3",
   "version": "3.4.3"
  }
 },
 "nbformat": 4,
 "nbformat_minor": 0
}
