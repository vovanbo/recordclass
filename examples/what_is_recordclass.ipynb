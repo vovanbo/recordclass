{
 "cells": [
  {
   "cell_type": "markdown",
   "metadata": {},
   "source": [
    "# What is recordclass"
   ]
  },
  {
   "cell_type": "markdown",
   "metadata": {},
   "source": [
    "[Recordclass](https://pypi.python.org/pypi/recordclass) is a library for creation of `record`-like classes &ndash; \"mutable\" analog of [collections.namedtuple](https://docs.python.org/3/library/collections.html).\n",
    "They support same API as namedtuples. In addition records support assignment operations."
   ]
  },
  {
   "cell_type": "markdown",
   "metadata": {},
   "source": [
    "It can be installed via `pip` command:\n",
    "```\n",
    "pip install recordclass\n",
    "```"
   ]
  },
  {
   "cell_type": "markdown",
   "metadata": {},
   "source": [
    "In order to start import `recordclass` factory function:"
   ]
  },
  {
   "cell_type": "code",
   "execution_count": 1,
   "metadata": {
    "collapsed": true
   },
   "outputs": [],
   "source": [
    "from __future__ import print_function\n",
    "from recordclass import recordclass"
   ]
  },
  {
   "cell_type": "markdown",
   "metadata": {},
   "source": [
    "Records are created by the same way as namedtuples:"
   ]
  },
  {
   "cell_type": "code",
   "execution_count": 2,
   "metadata": {
    "collapsed": true
   },
   "outputs": [],
   "source": [
    "R = recordclass(\"R\", \"a b c d e f g h\")\n",
    "r = R(*range(1,9))"
   ]
  },
  {
   "cell_type": "markdown",
   "metadata": {},
   "source": [
    "Record has the same size as the equivalent namedtuple:"
   ]
  },
  {
   "cell_type": "code",
   "execution_count": 3,
   "metadata": {
    "collapsed": false,
    "scrolled": true
   },
   "outputs": [
    {
     "name": "stdout",
     "output_type": "stream",
     "text": [
      "recordclass: sizeof: 112\n",
      "namedtuple:  sizeof: 112\n"
     ]
    }
   ],
   "source": [
    "import sys\n",
    "from collections import namedtuple\n",
    "\n",
    "R2 = namedtuple(\"R\", \"a b c d e f g h\")\n",
    "r2 = R2(*range(1,9))\n",
    "print(\"recordclass: sizeof:\", sys.getsizeof(r))\n",
    "print(\"namedtuple:  sizeof:\", sys.getsizeof(r2))"
   ]
  },
  {
   "cell_type": "markdown",
   "metadata": {},
   "source": [
    "Record has the same text representation as namedtuple:"
   ]
  },
  {
   "cell_type": "code",
   "execution_count": 4,
   "metadata": {
    "collapsed": false
   },
   "outputs": [
    {
     "name": "stdout",
     "output_type": "stream",
     "text": [
      "R(a=1, b=2, c=3, d=4, e=5, f=6, g=7, h=8)\n",
      "R(a=1, b=2, c=3, d=4, e=5, f=6, g=7, h=8)\n"
     ]
    }
   ],
   "source": [
    "print(repr(r))\n",
    "print(str(r))"
   ]
  },
  {
   "cell_type": "markdown",
   "metadata": {},
   "source": [
    "It support access to field both by attribute and by index:"
   ]
  },
  {
   "cell_type": "code",
   "execution_count": 5,
   "metadata": {
    "collapsed": false
   },
   "outputs": [
    {
     "name": "stdout",
     "output_type": "stream",
     "text": [
      "1 2 3 4 5 6 7 8\n",
      "1 2 3 4 5 6 7 8\n"
     ]
    }
   ],
   "source": [
    "print(r.a, r.b, r.c, r.d, r.e, r.f, r.g, r.h)\n",
    "print(r[0], r[1], r[2], r[3], r[4], r[5], r[6], r[7])"
   ]
  },
  {
   "cell_type": "markdown",
   "metadata": {},
   "source": [
    "Record can change the value of any it's field inplace:"
   ]
  },
  {
   "cell_type": "code",
   "execution_count": 6,
   "metadata": {
    "collapsed": false
   },
   "outputs": [
    {
     "name": "stdout",
     "output_type": "stream",
     "text": [
      "R(a=1, b=4, c=9, d=16, e=25, f=36, g=49, h=64)\n",
      "R(a=100, b=4, c=9, d=16, e=25, f=36, g=49, h=1000)\n"
     ]
    },
    {
     "data": {
      "text/plain": [
       "True"
      ]
     },
     "execution_count": 6,
     "metadata": {},
     "output_type": "execute_result"
    }
   ],
   "source": [
    "r.a, r.b, r.c, r.d, r.e, r.f, r.g, r.h = r.a, 2*r.b, 3*r.c, 4*r.d, 5*r.e, 6*r.f, 7*r.g, 8*r.h\n",
    "print(r)\n",
    "\n",
    "r1 = r._replace(a=100, h=1000)\n",
    "print(r1)\n",
    "r1 is r"
   ]
  },
  {
   "cell_type": "markdown",
   "metadata": {},
   "source": [
    "Records supports iterative unpacking and iteration over values in fields:"
   ]
  },
  {
   "cell_type": "code",
   "execution_count": 7,
   "metadata": {
    "collapsed": false
   },
   "outputs": [
    {
     "name": "stdout",
     "output_type": "stream",
     "text": [
      "100 4 9 16 25 36 49 1000\n",
      "100 4 9 16 25 36 49 1000 "
     ]
    }
   ],
   "source": [
    "a, b, c, d, e, f, g, h = r\n",
    "print(a, b, c, d, e, f, g, h)\n",
    "\n",
    "for v in r:\n",
    "    print(v, end=\" \")"
   ]
  },
  {
   "cell_type": "markdown",
   "metadata": {},
   "source": [
    "As namedtuple it can be converted to dict (infact to OrdeedDict as namedtuple):"
   ]
  },
  {
   "cell_type": "code",
   "execution_count": 8,
   "metadata": {
    "collapsed": false
   },
   "outputs": [
    {
     "data": {
      "text/plain": [
       "OrderedDict([('a', 100), ('b', 4), ('c', 9), ('d', 16), ('e', 25), ('f', 36), ('g', 49), ('h', 1000)])"
      ]
     },
     "execution_count": 8,
     "metadata": {},
     "output_type": "execute_result"
    }
   ],
   "source": [
    "r._asdict()"
   ]
  },
  {
   "cell_type": "markdown",
   "metadata": {},
   "source": [
    "Records are pickable and unpickable\""
   ]
  },
  {
   "cell_type": "code",
   "execution_count": 9,
   "metadata": {
    "collapsed": false
   },
   "outputs": [
    {
     "data": {
      "text/plain": [
       "True"
      ]
     },
     "execution_count": 9,
     "metadata": {},
     "output_type": "execute_result"
    }
   ],
   "source": [
    "import pickle\n",
    "r_pickled = pickle.dumps(r)\n",
    "r_unpickled = pickle.loads(r_pickled)\n",
    "r == r_unpickled"
   ]
  },
  {
   "cell_type": "markdown",
   "metadata": {},
   "source": [
    "Any records has `_fields` attribute and an empty `__slots__`:"
   ]
  },
  {
   "cell_type": "code",
   "execution_count": 10,
   "metadata": {
    "collapsed": false
   },
   "outputs": [
    {
     "name": "stdout",
     "output_type": "stream",
     "text": [
      "('a', 'b', 'c', 'd', 'e', 'f', 'g', 'h')\n",
      "()\n"
     ]
    }
   ],
   "source": [
    "print(r._fields)\n",
    "print(r.__slots__)"
   ]
  },
  {
   "cell_type": "markdown",
   "metadata": {},
   "source": [
    "Implementation of the record class is fast enough:"
   ]
  },
  {
   "cell_type": "code",
   "execution_count": 11,
   "metadata": {
    "collapsed": false
   },
   "outputs": [
    {
     "name": "stdout",
     "output_type": "stream",
     "text": [
      "Named tuple with attribute access:\n",
      "1000 loops, best of 3: 1.44 ms per loop\n",
      "Named tuple with index access:\n",
      "1000 loops, best of 3: 781 µs per loop\n",
      "Recordclass with attribute access:\n",
      "1000 loops, best of 3: 799 µs per loop\n",
      "Recordclass with index access:\n",
      "1000 loops, best of 3: 776 µs per loop\n",
      "Class using __slots__ with attribute access:\n",
      "1000 loops, best of 3: 833 µs per loop\n",
      "Class using __slots__ with index access:\n",
      "100 loops, best of 3: 2.41 ms per loop\n",
      "Dictionary with keys a, b, c:\n",
      "1000 loops, best of 3: 754 µs per loop\n",
      "Tuple with three values, using a constant key:\n",
      "1000 loops, best of 3: 759 µs per loop\n",
      "List with three values, using a constant key:\n",
      "1000 loops, best of 3: 768 µs per loop\n",
      "Tuple with three values, using a local key:\n",
      "1000 loops, best of 3: 1.08 ms per loop\n",
      "List with three values, using a local key:\n",
      "1000 loops, best of 3: 1.08 ms per loop\n"
     ]
    }
   ],
   "source": [
    "STest = namedtuple(\"TEST\", \"a b c d e f g h\")\n",
    "sa = STest(a=1,b=2,c=3,d=4,e=5,f=6,g=7,h=8)\n",
    "\n",
    "RTest = recordclass(\"RTEST\", \"a b c d e f g h\")\n",
    "ra = RTest(a=1,b=2,c=3,d=4,e=5,f=6,g=7,h=8)\n",
    "\n",
    "class Test(object):\n",
    "    __slots__ = [\"a\",\"b\",\"c\",\"d\",\"e\",\"f\",\"g\",\"h\"]\n",
    "\n",
    "    def __init__(self, a, b, c, d, e, f, g, h):\n",
    "        self.a = a; self.b = b; self.c = c\n",
    "        self.d = d; self.e = e; self.f = f\n",
    "        self.g = g; self.h = h\n",
    "\n",
    "b = Test(1,2,3,4,5,6,7,8)\n",
    "\n",
    "c = {'a':1, 'b':2, 'c':3, 'd':4, 'e':5, 'f':6, 'g':7, 'h':8}\n",
    "\n",
    "d = (1,2,3,4,5,6,7,8)\n",
    "e = [1,2,3,4,5,6,7,8]\n",
    "f = (1,2,3,4,5,6,7,8)\n",
    "g = [1,2,3,4,5,6,7,8]\n",
    "key = 7\n",
    "\n",
    "from timeit import timeit\n",
    "\n",
    "print(\"Named tuple with attribute access:\")\n",
    "t1 = %timeit for i in range(10000): z = sa.g\n",
    "\n",
    "print(\"Named tuple with index access:\")\n",
    "t2 = %timeit for i in range(10000): z = sa[7]\n",
    "\n",
    "print(\"Recordclass with attribute access:\")\n",
    "t3 = %timeit for i in range(10000): z = ra.g\n",
    "\n",
    "print(\"Recordclass with index access:\")\n",
    "t4 = %timeit for i in range(10000): z = ra[7]\n",
    "\n",
    "print(\"Class using __slots__ with attribute access:\")\n",
    "t5 = %timeit for i in range(10000): z = b.g\n",
    "\n",
    "print(\"Class using __slots__ with index access:\")\n",
    "t6 = %timeit for i in range(10000): z = getattr(b, b.__slots__[7])\n",
    "\n",
    "print(\"Dictionary with keys a, b, c:\")\n",
    "t7 = %timeit for i in range(10000): z = c['g']\n",
    "\n",
    "print(\"Tuple with three values, using a constant key:\")    \n",
    "t8 = %timeit for i in range(10000): z = d[7]\n",
    "\n",
    "print(\"List with three values, using a constant key:\")\n",
    "t9 = %timeit for i in range(10000): z = e[7]\n",
    "\n",
    "print(\"Tuple with three values, using a local key:\")\n",
    "t10 = %timeit for i in range(10000): z = d[key]\n",
    "\n",
    "print(\"List with three values, using a local key:\")\n",
    "t11 = %timeit for i in range(10000): z = e[key]\n"
   ]
  }
 ],
 "metadata": {
  "kernelspec": {
   "display_name": "Python 3",
   "language": "python",
   "name": "python3"
  },
  "language_info": {
   "codemirror_mode": {
    "name": "ipython",
    "version": 3
   },
   "file_extension": ".py",
   "mimetype": "text/x-python",
   "name": "python",
   "nbconvert_exporter": "python",
   "pygments_lexer": "ipython3",
   "version": "3.4.3"
  }
 },
 "nbformat": 4,
 "nbformat_minor": 0
}
